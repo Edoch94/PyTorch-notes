{
 "cells": [
  {
   "cell_type": "markdown",
   "metadata": {},
   "source": [
    "# Image Classification using Convolutional Neural Networks in PyTorch"
   ]
  },
  {
   "cell_type": "markdown",
   "metadata": {},
   "source": [
    "## The CIFAR10 Dataset\n",
    "\n",
    "In this notebook the CIFAR10 dataset is used: it consists of 60000 32x32 px colour images in 10 classes"
   ]
  },
  {
   "cell_type": "code",
   "execution_count": 2,
   "metadata": {},
   "outputs": [],
   "source": [
    "from pathlib import Path\n",
    "import torch\n",
    "import torchvision\n",
    "import tarfile\n",
    "from torchvision.datasets.utils import download_url\n",
    "from torch.utils.data import random_split"
   ]
  },
  {
   "cell_type": "markdown",
   "metadata": {},
   "source": [
    "## Data import "
   ]
  },
  {
   "cell_type": "markdown",
   "metadata": {},
   "source": [
    "Create a folder for the data"
   ]
  },
  {
   "cell_type": "code",
   "execution_count": 13,
   "metadata": {},
   "outputs": [],
   "source": [
    "CIFAR10_folder_archive = Path('.')/'data'/'CIFAR10'/'archive'\n",
    "CIFAR10_folder_raw = Path('.')/'data'/'CIFAR10'/'raw'\n",
    "\n",
    "if not (CIFAR10_folder_archive).exists():\n",
    "    CIFAR10_folder_archive.mkdir(parents=True)\n",
    "    \n",
    "if not (CIFAR10_folder_raw).exists():\n",
    "    CIFAR10_folder_raw.mkdir(parents=True)"
   ]
  },
  {
   "cell_type": "markdown",
   "metadata": {},
   "source": [
    "Download the data from the link"
   ]
  },
  {
   "cell_type": "code",
   "execution_count": 14,
   "metadata": {},
   "outputs": [
    {
     "name": "stdout",
     "output_type": "stream",
     "text": [
      "Downloading https://s3.amazonaws.com/fast-ai-imageclas/cifar10.tgz to data\\CIFAR10\\archive\\cifar10.tgz\n"
     ]
    },
    {
     "data": {
      "application/vnd.jupyter.widget-view+json": {
       "model_id": "b23a00f62983459b87ca5e9be31bbba1",
       "version_major": 2,
       "version_minor": 0
      },
      "text/plain": [
       "  0%|          | 0/135107811 [00:00<?, ?it/s]"
      ]
     },
     "metadata": {},
     "output_type": "display_data"
    }
   ],
   "source": [
    "dataset_url = \"https://s3.amazonaws.com/fast-ai-imageclas/cifar10.tgz\"\n",
    "download_url(\n",
    "    url=dataset_url,\n",
    "    root=str(CIFAR10_folder_archive)\n",
    ")"
   ]
  },
  {
   "cell_type": "markdown",
   "metadata": {},
   "source": [
    "Extract the data"
   ]
  },
  {
   "cell_type": "code",
   "execution_count": 15,
   "metadata": {},
   "outputs": [],
   "source": [
    "# Extract from archive\n",
    "with tarfile.open(CIFAR10_folder_archive/'./cifar10.tgz', 'r:gz') as tar:\n",
    "    tar.extractall(path=CIFAR10_folder_raw)"
   ]
  },
  {
   "cell_type": "markdown",
   "metadata": {},
   "source": [
    "Check the folders of images"
   ]
  },
  {
   "cell_type": "code",
   "execution_count": 21,
   "metadata": {},
   "outputs": [
    {
     "name": "stdout",
     "output_type": "stream",
     "text": [
      "['test', 'train']\n",
      "['airplane', 'automobile', 'bird', 'cat', 'deer', 'dog', 'frog', 'horse', 'ship', 'truck']\n",
      "['airplane', 'automobile', 'bird', 'cat', 'deer', 'dog', 'frog', 'horse', 'ship', 'truck']\n"
     ]
    }
   ],
   "source": [
    "print([folder.name for folder in (CIFAR10_folder_raw/'cifar10').iterdir()])\n",
    "print([folder.name for folder in (CIFAR10_folder_raw/'cifar10'/'test').iterdir()])\n",
    "print([folder.name for folder in (CIFAR10_folder_raw/'cifar10'/'train').iterdir()])"
   ]
  },
  {
   "cell_type": "markdown",
   "metadata": {},
   "source": [
    "Images in train folder"
   ]
  },
  {
   "cell_type": "code",
   "execution_count": 26,
   "metadata": {},
   "outputs": [
    {
     "name": "stdout",
     "output_type": "stream",
     "text": [
      "airplane elements: 5000\n",
      "automobile elements: 5000\n",
      "bird elements: 5000\n",
      "cat elements: 5000\n",
      "deer elements: 5000\n",
      "dog elements: 5000\n",
      "frog elements: 5000\n",
      "horse elements: 5000\n",
      "ship elements: 5000\n",
      "truck elements: 5000\n"
     ]
    }
   ],
   "source": [
    "for folder in (CIFAR10_folder_raw/'cifar10'/'train').iterdir():\n",
    "    print(f'{folder.name} elements: {len(list(folder.iterdir()))}')"
   ]
  },
  {
   "cell_type": "markdown",
   "metadata": {},
   "source": [
    "Images in test folder"
   ]
  },
  {
   "cell_type": "code",
   "execution_count": 27,
   "metadata": {},
   "outputs": [
    {
     "name": "stdout",
     "output_type": "stream",
     "text": [
      "airplane elements: 1000\n",
      "automobile elements: 1000\n",
      "bird elements: 1000\n",
      "cat elements: 1000\n",
      "deer elements: 1000\n",
      "dog elements: 1000\n",
      "frog elements: 1000\n",
      "horse elements: 1000\n",
      "ship elements: 1000\n",
      "truck elements: 1000\n"
     ]
    }
   ],
   "source": [
    "for folder in (CIFAR10_folder_raw/'cifar10'/'test').iterdir():\n",
    "    print(f'{folder.name} elements: {len(list(folder.iterdir()))}')"
   ]
  },
  {
   "cell_type": "markdown",
   "metadata": {},
   "source": [
    "This directory structure (one folder per class) is widly used in computer vision datasets, and most deep learning libraries provide utilites for working with such datasets. PyTorch implements the `ImageFolder` class from `torchvision` to load the data as tensors."
   ]
  },
  {
   "cell_type": "code",
   "execution_count": 29,
   "metadata": {},
   "outputs": [],
   "source": [
    "from torchvision.datasets import ImageFolder\n",
    "from torchvision.transforms import ToTensor\n",
    "\n",
    "dataset = ImageFolder(str(CIFAR10_folder_raw/'cifar10'/'train'), transform=ToTensor())"
   ]
  },
  {
   "cell_type": "markdown",
   "metadata": {},
   "source": [
    "Check one element"
   ]
  },
  {
   "cell_type": "code",
   "execution_count": 32,
   "metadata": {},
   "outputs": [
    {
     "name": "stdout",
     "output_type": "stream",
     "text": [
      "torch.Size([3, 32, 32])\n",
      "0\n"
     ]
    }
   ],
   "source": [
    "image_0, label_0 = dataset[0]\n",
    "print(image_0.shape)\n",
    "print(label_0)"
   ]
  },
  {
   "cell_type": "markdown",
   "metadata": {},
   "source": [
    "Notice that class has been label-encoded. To know which number corresponds to each class, use the dataset `.classes` attribute"
   ]
  },
  {
   "cell_type": "code",
   "execution_count": 33,
   "metadata": {},
   "outputs": [
    {
     "data": {
      "text/plain": [
       "'airplane'"
      ]
     },
     "execution_count": 33,
     "metadata": {},
     "output_type": "execute_result"
    }
   ],
   "source": [
    "dataset.classes[0]"
   ]
  },
  {
   "cell_type": "markdown",
   "metadata": {},
   "source": [
    "Visualize the image using matplotlib"
   ]
  },
  {
   "cell_type": "code",
   "execution_count": 34,
   "metadata": {},
   "outputs": [],
   "source": [
    "import matplotlib\n",
    "import matplotlib.pyplot as plt\n",
    "%matplotlib inline\n",
    "\n",
    "matplotlib.rcParams['figure.facecolor'] = '#ffffff'"
   ]
  },
  {
   "cell_type": "code",
   "execution_count": null,
   "metadata": {},
   "outputs": [],
   "source": [
    "def show_example(img, label_id):\n",
    "    print('Label: ', dataset.classes[label_id], \"(\"+str(label_id)+\")\")\n",
    "    plt.imshow(img.permute(1, 2, 0))"
   ]
  }
 ],
 "metadata": {
  "kernelspec": {
   "display_name": "Python 3.9.13 ('torch_env')",
   "language": "python",
   "name": "python3"
  },
  "language_info": {
   "codemirror_mode": {
    "name": "ipython",
    "version": 3
   },
   "file_extension": ".py",
   "mimetype": "text/x-python",
   "name": "python",
   "nbconvert_exporter": "python",
   "pygments_lexer": "ipython3",
   "version": "3.9.13"
  },
  "orig_nbformat": 4,
  "vscode": {
   "interpreter": {
    "hash": "2d94a055596b021af6b355d38c8f68b28eca02e4c507e6e85fc92b8f40d87732"
   }
  }
 },
 "nbformat": 4,
 "nbformat_minor": 2
}
