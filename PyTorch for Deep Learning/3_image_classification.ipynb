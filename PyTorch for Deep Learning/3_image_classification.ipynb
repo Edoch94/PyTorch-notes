{
 "cells": [
  {
   "cell_type": "markdown",
   "metadata": {},
   "source": [
    "# Image classification using logistic regression in PyTorch\n",
    "Source: https://jovian.ai/aakashns/03-logistic-regression"
   ]
  },
  {
   "cell_type": "markdown",
   "metadata": {},
   "source": [
    "## Working with Images\n",
    "The dataset used is [*MNIST Handwritten Digits Database*](http://yann.lecun.com/exdb/mnist/), consisting of 28px by 28px grayscale images of handwritten digits (0 to 9) and labels for each image indicating which digit it represents. \n",
    "\n",
    "Some sample images from the dataset:\n",
    "\n",
    "![mnist-sample](https://i.imgur.com/CAYnuo1.jpg)\n",
    "\n",
    "To work with images, the torchvision library is used. It contains some utilities for working with image data, and provides helper classes to download and import popular datasets, like MNIST, automatically"
   ]
  },
  {
   "cell_type": "code",
   "execution_count": 1,
   "metadata": {},
   "outputs": [],
   "source": [
    "import torch\n",
    "import torchvision\n",
    "from torchvision.datasets import MNIST"
   ]
  },
  {
   "cell_type": "code",
   "execution_count": 2,
   "metadata": {},
   "outputs": [],
   "source": [
    "# Download training dataset\n",
    "dataset = MNIST(\n",
    "    root='data/', \n",
    "    download=True,\n",
    "    train=True\n",
    ")"
   ]
  },
  {
   "cell_type": "markdown",
   "metadata": {},
   "source": [
    "Check the dataset size"
   ]
  },
  {
   "cell_type": "code",
   "execution_count": 3,
   "metadata": {},
   "outputs": [
    {
     "data": {
      "text/plain": [
       "60000"
      ]
     },
     "execution_count": 3,
     "metadata": {},
     "output_type": "execute_result"
    }
   ],
   "source": [
    "len(dataset)"
   ]
  },
  {
   "cell_type": "markdown",
   "metadata": {},
   "source": [
    "Now download the test set"
   ]
  },
  {
   "cell_type": "code",
   "execution_count": 4,
   "metadata": {},
   "outputs": [
    {
     "data": {
      "text/plain": [
       "10000"
      ]
     },
     "execution_count": 4,
     "metadata": {},
     "output_type": "execute_result"
    }
   ],
   "source": [
    "# Download test dataset\n",
    "test_dataset = MNIST(\n",
    "    root='data/', \n",
    "    download=True,\n",
    "    train=False\n",
    ")\n",
    "len(test_dataset)"
   ]
  },
  {
   "cell_type": "markdown",
   "metadata": {},
   "source": [
    "Consider one image"
   ]
  },
  {
   "cell_type": "code",
   "execution_count": 5,
   "metadata": {},
   "outputs": [
    {
     "data": {
      "text/plain": [
       "(<PIL.Image.Image image mode=L size=28x28>, 5)"
      ]
     },
     "execution_count": 5,
     "metadata": {},
     "output_type": "execute_result"
    }
   ],
   "source": [
    "dataset[0]"
   ]
  },
  {
   "cell_type": "markdown",
   "metadata": {},
   "source": [
    "Each element of dataset is a pair, consisting of a 28x28px image and a label. \n",
    "\n",
    "The image is an object of the class `PIL.Image.Image`, part of the Python imaging library [Pillow](https://pillow.readthedocs.io/en/stable/). It is possible to visualize the images using [`matplotlib`](https://matplotlib.org/)."
   ]
  },
  {
   "cell_type": "code",
   "execution_count": 6,
   "metadata": {},
   "outputs": [
    {
     "data": {
      "image/png": "[encoded data removed]",
      "text/plain": [
       "<Figure size 720x720 with 16 Axes>"
      ]
     },
     "metadata": {
      "needs_background": "light"
     },
     "output_type": "display_data"
    }
   ],
   "source": [
    "import matplotlib.pyplot as plt\n",
    "%matplotlib inline\n",
    "\n",
    "image, label = dataset[0]\n",
    "\n",
    "\n",
    "# plt.imshow(image, cmap='gray')\n",
    "# plt.title(f'label: {label}')\n",
    "\n",
    "figure = plt.figure(figsize=(10,10))\n",
    "cols, rows = 4, 4\n",
    "for pos in range(1,cols*rows+1):\n",
    "    id_sample = torch.randint(len(dataset),size=(1,)).item()\n",
    "    image, label = dataset[id_sample]\n",
    "    figure.add_subplot(rows, cols, pos)\n",
    "    plt.imshow(image, cmap='gray')\n",
    "    plt.axis('off')\n",
    "    plt.title(str(label))\n",
    "    plt.tight_layout()\n",
    "plt.show()"
   ]
  },
  {
   "cell_type": "markdown",
   "metadata": {},
   "source": [
    "## From images to tensors\n",
    "Images has to be converted to tensors so that PyTorch can work on them.\n",
    "\n",
    "This can be done using the `transforms` module of torchvision"
   ]
  },
  {
   "cell_type": "code",
   "execution_count": 7,
   "metadata": {},
   "outputs": [],
   "source": [
    "import torchvision.transforms as transforms"
   ]
  },
  {
   "cell_type": "markdown",
   "metadata": {},
   "source": [
    "The trasformation is performed during the import of the image dataset"
   ]
  },
  {
   "cell_type": "code",
   "execution_count": 8,
   "metadata": {},
   "outputs": [],
   "source": [
    "dataset = MNIST(\n",
    "    root='/data',\n",
    "    train=True,\n",
    "    download=True,\n",
    "    transform=transforms.ToTensor()\n",
    ")"
   ]
  },
  {
   "cell_type": "code",
   "execution_count": 9,
   "metadata": {},
   "outputs": [
    {
     "data": {
      "text/plain": [
       "(torch.Size([1, 28, 28]), 5)"
      ]
     },
     "execution_count": 9,
     "metadata": {},
     "output_type": "execute_result"
    }
   ],
   "source": [
    "img_tensor, label = dataset[0]\n",
    "img_tensor.shape, label"
   ]
  },
  {
   "cell_type": "markdown",
   "metadata": {},
   "source": [
    "The image is now converted to a 1x28x28 tensor. \n",
    "- The first dimension tracks color channels. \n",
    "- The second and third dimensions represent pixels along the height and width of the image, respectively. \n",
    "\n",
    "Since images in the MNIST dataset are grayscale, there's just one channel. Other datasets have images with color, in which case there are three channels: red, green, and blue (RGB). \n",
    "\n",
    "The values in the image tensor range from 0 to 1, with `0` representing black, `1` white, and the values in between different shades of grey"
   ]
  },
  {
   "cell_type": "markdown",
   "metadata": {},
   "source": [
    "## Training and Validation Datasets\n",
    "The dataset is split into\n",
    "1. **Training set** - used to train the model, i.e., compute the loss and adjust the model's weights using gradient descent\n",
    "2. **Validation set** - used to evaluate the model during training, adjust hyperparameters (learning rate, etc.), and pick the best version of the model\n",
    "3. **Test set** - used to compare different models or approaches and report the model's final accuracy\n",
    "\n",
    "In the MNIST dataset, there are 60,000 training images and 10,000 test images. The test set is standardized so that different researchers can report their models results against the same collection of images. \n",
    "\n",
    "There's no predefined validation set, so the training set must manually split the 60,000 images into training and validation datasets. This can be done using the `random_spilt` method, part of the `utils.data` module."
   ]
  },
  {
   "cell_type": "code",
   "execution_count": 10,
   "metadata": {},
   "outputs": [
    {
     "data": {
      "text/plain": [
       "(50000, 10000)"
      ]
     },
     "execution_count": 10,
     "metadata": {},
     "output_type": "execute_result"
    }
   ],
   "source": [
    "from torch.utils.data import random_split\n",
    "\n",
    "train_ds, val_ds = random_split(dataset, [50000, 10000])\n",
    "len(train_ds), len(val_ds)"
   ]
  },
  {
   "cell_type": "markdown",
   "metadata": {},
   "source": [
    "### Dataloader\n",
    "The dataset is divided into batches using the Dataloader method"
   ]
  },
  {
   "cell_type": "code",
   "execution_count": 11,
   "metadata": {},
   "outputs": [],
   "source": [
    "from torch.utils.data import DataLoader\n",
    "\n",
    "train_loader = DataLoader(train_ds, batch_size=128, shuffle=True, pin_memory=True)\n",
    "validation_loader = DataLoader(val_ds, batch_size=128, pin_memory=True)"
   ]
  },
  {
   "cell_type": "markdown",
   "metadata": {},
   "source": [
    "## The model\n",
    "\n",
    "The model used to classify the images is a logistic regression. A logistic regression model is almost identical to a linear regression model: it contains weights and bias matrices, and the output is obtained using simple matrix operations (`pred = x @ w.t() + b`).\n",
    "\n",
    "`nn.Linear` contains a built-in logistic regression model, that allows to automatically create the model and initialize the matrices.\n",
    "\n",
    "`nn.Linear` expects each training example to be a vector, so each `1x28x28` image tensor must be **flattened** into a vector (of size 784, `(28*28)`) before being passed into the model.\n",
    "\n",
    "The output for each image is a vector of size 10, with each element signifying the probability of a particular target label (i.e., 0 to 9). The predicted label for an image is the one with the highest probability."
   ]
  },
  {
   "cell_type": "code",
   "execution_count": 12,
   "metadata": {},
   "outputs": [],
   "source": [
    "import torch.nn as nn\n",
    "\n",
    "# Logistic regression model\n",
    "model = nn.Linear(\n",
    "    in_features=28*28,\n",
    "    out_features=10\n",
    ")"
   ]
  },
  {
   "cell_type": "markdown",
   "metadata": {},
   "source": [
    "The model parameter shapes are"
   ]
  },
  {
   "cell_type": "code",
   "execution_count": 13,
   "metadata": {},
   "outputs": [
    {
     "name": "stdout",
     "output_type": "stream",
     "text": [
      "weights: torch.Size([10, 784])\n",
      "biases: torch.Size([10])\n"
     ]
    }
   ],
   "source": [
    "print(f'weights: {model.weight.shape}')\n",
    "print(f'biases: {model.bias.shape}')"
   ]
  },
  {
   "cell_type": "markdown",
   "metadata": {},
   "source": [
    "So there are 7850 parameters\n",
    "\n",
    "Check what's inside each element of the dataloader"
   ]
  },
  {
   "cell_type": "code",
   "execution_count": 14,
   "metadata": {},
   "outputs": [
    {
     "name": "stdout",
     "output_type": "stream",
     "text": [
      "torch.Size([128, 1, 28, 28])\n",
      "tensor([7, 3, 1, 8, 5, 8, 5, 1, 6, 1, 8, 1, 4, 6, 3, 9, 2, 7, 4, 6, 3, 9, 8, 6,\n",
      "        4, 7, 1, 0, 1, 6, 5, 4, 9, 0, 7, 1, 1, 7, 2, 5, 0, 3, 3, 2, 2, 4, 8, 7,\n",
      "        8, 4, 5, 8, 3, 7, 4, 9, 3, 4, 1, 3, 8, 2, 1, 4, 7, 9, 8, 4, 7, 1, 9, 2,\n",
      "        1, 0, 3, 4, 6, 8, 2, 0, 9, 8, 1, 3, 0, 5, 8, 3, 0, 8, 3, 3, 6, 0, 8, 5,\n",
      "        4, 2, 9, 7, 9, 0, 5, 3, 4, 1, 4, 3, 7, 9, 9, 4, 0, 0, 5, 4, 1, 7, 0, 0,\n",
      "        1, 2, 0, 6, 6, 5, 0, 5])\n",
      "128\n"
     ]
    }
   ],
   "source": [
    "image_0, label_0 = list(train_loader)[0]\n",
    "print(image_0.shape)\n",
    "print(label_0)\n",
    "print(len(label_0))"
   ]
  },
  {
   "cell_type": "markdown",
   "metadata": {},
   "source": [
    "So, each element of dataloader is a tuple of\n",
    "- a tensor of 4 dimensions:\n",
    "    - each element of the first dimension is a single image tensor (its dimension is 128 because there are 128 images in each batch)\n",
    "    - the other dimensions are for the color channel, the height, and the width (1, 28, 28)\n",
    "- a tensor containing the list of the image labels (one for each image tensor in the batch, so 128)\n",
    "\n",
    "The image tensors should be reshaped, such that each of them becomes a vector. In this way, each element (i.e., batch) of the dataloader becomes a matrix having the batch length as number of rows (128) and image $\\text{height}*\\text{width}$ as number of columns (784). To reshape the tensor the `.reshape()` method can be used."
   ]
  },
  {
   "cell_type": "code",
   "execution_count": 15,
   "metadata": {},
   "outputs": [
    {
     "data": {
      "text/plain": [
       "torch.Size([128, 784])"
      ]
     },
     "execution_count": 15,
     "metadata": {},
     "output_type": "execute_result"
    }
   ],
   "source": [
    "image_0.reshape(-1,28*28).shape"
   ]
  },
  {
   "cell_type": "markdown",
   "metadata": {},
   "source": [
    "### Model and reshaping as a class\n",
    "Instead of manually performing the reshaping, it can be inserted in class together with the model using the `nn.Module` as a base. \n",
    "\n",
    "The `nn.Module` is a blueprint for PyTorch modules:\n",
    "- in the `__init__()` method the model is instantiated (and weights and biases are inizialised)\n",
    "- in the `forward()` method the operations on input data are implemented (included the linear model); it is invoked a batch of inputs is passed to the model\n",
    "\n",
    "So, in this case, the class is the following"
   ]
  },
  {
   "cell_type": "code",
   "execution_count": 16,
   "metadata": {},
   "outputs": [],
   "source": [
    "class MnistModel(nn.Module):\n",
    "    def __init__(self):\n",
    "        super().__init__()\n",
    "        self.linear = nn.Linear(28*28, 10)\n",
    "        \n",
    "    def forward(self, xb):\n",
    "        xb = xb.reshape(-1, 28*28)\n",
    "        out = self.linear(xb)\n",
    "        return out\n",
    "    \n",
    "model = MnistModel()"
   ]
  },
  {
   "cell_type": "markdown",
   "metadata": {},
   "source": [
    "The model can be inspected using "
   ]
  },
  {
   "cell_type": "code",
   "execution_count": 17,
   "metadata": {},
   "outputs": [
    {
     "name": "stdout",
     "output_type": "stream",
     "text": [
      "Linear(in_features=784, out_features=10, bias=True)\n",
      "\n",
      "[Parameter containing:\n",
      "tensor([[-0.0335, -0.0063, -0.0280,  ...,  0.0251, -0.0103, -0.0348],\n",
      "        [ 0.0282,  0.0074, -0.0103,  ...,  0.0317,  0.0030, -0.0130],\n",
      "        [-0.0330, -0.0238,  0.0281,  ..., -0.0098, -0.0048, -0.0218],\n",
      "        ...,\n",
      "        [-0.0084,  0.0114, -0.0182,  ..., -0.0285,  0.0049,  0.0129],\n",
      "        [-0.0230, -0.0123, -0.0342,  ..., -0.0223, -0.0291, -0.0008],\n",
      "        [-0.0187, -0.0146,  0.0206,  ...,  0.0148, -0.0258,  0.0097]],\n",
      "       requires_grad=True), Parameter containing:\n",
      "tensor([ 0.0321,  0.0054, -0.0116,  0.0171,  0.0030, -0.0345, -0.0240,  0.0209,\n",
      "         0.0312,  0.0041], requires_grad=True)]\n"
     ]
    }
   ],
   "source": [
    "print(model.linear)\n",
    "print()\n",
    "print(list(model.linear.parameters()))"
   ]
  },
  {
   "cell_type": "markdown",
   "metadata": {},
   "source": [
    "## Model output\n",
    "The output is a vector of length 10, one element for each possible category. However, the output should be trasformed in a vector of probabilities, so that each element of the vector represents the probability that the image belongs to that category.\n",
    "\n",
    "To convert the output rows into probabilities the **softmax function** is used\n",
    "\n",
    "$$\\sigma(z_{j})=\\frac{e^{z_{j}}}{\\sum_{k=1}^{K}{e^{z_{j}}}}$$\n",
    "\n",
    "Where $z_{j}$ is the input value for class $j$.\n",
    "\n",
    "The softmax function is implemented in PyTorch in the `torch.nn.functional` module"
   ]
  },
  {
   "cell_type": "code",
   "execution_count": 18,
   "metadata": {},
   "outputs": [],
   "source": [
    "from torch.nn.functional import softmax"
   ]
  },
  {
   "cell_type": "markdown",
   "metadata": {},
   "source": [
    "Consider a single output of the model"
   ]
  },
  {
   "cell_type": "code",
   "execution_count": 19,
   "metadata": {},
   "outputs": [
    {
     "data": {
      "text/plain": [
       "torch.Size([128, 10])"
      ]
     },
     "execution_count": 19,
     "metadata": {},
     "output_type": "execute_result"
    }
   ],
   "source": [
    "output_0 = model(image_0)\n",
    "\n",
    "output_0.shape"
   ]
  },
  {
   "cell_type": "markdown",
   "metadata": {},
   "source": [
    "It is possible to pass one of the rows of the output tensor (i.e., the vector containing the output values representing the \"probability\" of an image of belonging to each class) to the `softmax` function to transform it into an actual vector of probabilities.\n",
    "\n",
    "The `softmax` function has a `dim` parameter, where the user has to inserted the tensor dimension on which the function has to be applied\n",
    "\n",
    "See https://pytorch.org/docs/stable/generated/torch.nn.functional.softmax.html"
   ]
  },
  {
   "cell_type": "code",
   "execution_count": 20,
   "metadata": {},
   "outputs": [
    {
     "name": "stdout",
     "output_type": "stream",
     "text": [
      "Sample probabilities:\n",
      " tensor([[0.1115, 0.1006, 0.1188, 0.1051, 0.1090, 0.0924, 0.0804, 0.0792, 0.0771,\n",
      "         0.1260],\n",
      "        [0.0923, 0.0944, 0.1313, 0.1199, 0.0895, 0.0677, 0.0774, 0.1522, 0.0771,\n",
      "         0.0981]])\n",
      "Sum:  1.9999998807907104\n"
     ]
    }
   ],
   "source": [
    "# Apply softmax for each output row\n",
    "output_0_prob = softmax(output_0[:2], dim=1)\n",
    "\n",
    "# Look at sample probabilities\n",
    "print(\"Sample probabilities:\\n\", output_0_prob.data)\n",
    "\n",
    "# Add up the probabilities of an output row\n",
    "print(\"Sum: \", torch.sum(output_0_prob).item())"
   ]
  },
  {
   "cell_type": "markdown",
   "metadata": {},
   "source": [
    "To find the predicted label (i.e., the label with the highest probability) the `torch.max()` function can be used\n",
    "\n",
    "This function returns a namedtuple (values, indices) where values is the maximum value of each row of the input tensor in the given dimension dim. And indices is the index location of each maximum value found (argmax).\n",
    "\n",
    "See https://pytorch.org/docs/stable/generated/torch.max.html"
   ]
  },
  {
   "cell_type": "code",
   "execution_count": 21,
   "metadata": {},
   "outputs": [
    {
     "name": "stdout",
     "output_type": "stream",
     "text": [
      "tensor([9, 7])\n",
      "tensor([0.1260, 0.1522], grad_fn=<MaxBackward0>)\n"
     ]
    }
   ],
   "source": [
    "max_probs, preds = torch.max(output_0_prob, dim=1)\n",
    "print(preds)\n",
    "print(max_probs)"
   ]
  },
  {
   "cell_type": "markdown",
   "metadata": {},
   "source": [
    "## Evaluation Metric and Loss Function\n",
    "To evaluated the results of a classification the accuracy metric can be used. The accuracy can be implemented as follows"
   ]
  },
  {
   "cell_type": "code",
   "execution_count": 22,
   "metadata": {},
   "outputs": [],
   "source": [
    "def accuracy(outputs, labels):\n",
    "    _, preds = torch.max(outputs, dim=1)\n",
    "    return torch.tensor(torch.sum(torch.eq(preds,labels)).item() / len(preds))"
   ]
  },
  {
   "cell_type": "markdown",
   "metadata": {},
   "source": [
    "So, in the previous example"
   ]
  },
  {
   "cell_type": "code",
   "execution_count": 23,
   "metadata": {},
   "outputs": [
    {
     "name": "stdout",
     "output_type": "stream",
     "text": [
      "torch.Size([128, 10])\n",
      "torch.Size([128])\n"
     ]
    },
    {
     "data": {
      "text/plain": [
       "tensor(0.0625)"
      ]
     },
     "execution_count": 23,
     "metadata": {},
     "output_type": "execute_result"
    }
   ],
   "source": [
    "image_0, label_0 = list(train_loader)[0]\n",
    "output_0 = model(image_0)\n",
    "\n",
    "print(output_0.shape)\n",
    "print(label_0.shape)\n",
    "\n",
    "accuracy(output_0, label_0)"
   ]
  },
  {
   "cell_type": "markdown",
   "metadata": {},
   "source": [
    "Accuracy can't be used as a loss function for optimizing to model using gradient descent for the following reasons:\n",
    "\n",
    "1. It's not a differentiable function. `torch.max` and `==` are both non-continuous and non-differentiable operations\n",
    "\n",
    "2. It doesn't take into account the actual probabilities predicted by the model, so it can't provide sufficient feedback for incremental improvements.\n",
    "\n",
    "For these reasons, accuracy is used as an **evaluation metric** for classification, but not as a loss function. A commonly used loss function for classification problems is the **cross-entropy**, which has the following formula:\n",
    "\n",
    "$$H(\\hat{p},y)=-\\sum_{j}{y_{j}\\log{\\hat{p}_{j}}}$$\n",
    "\n",
    "Where \n",
    "- $\\hat{p}$ is the vector of the predicted probabilities for each label for an observation\n",
    "- $y$ is the vector of the true labels (one-hot encoded, so its 1 only in correspondence of the correct label for that observation)\n",
    "\n",
    "So, considering one single sample (observation) whose true label is 3 and whose computed output is $\\hat{p}=[0.1,0.2,0.7]$ (given that the possible classes are just 3)\n",
    "$$\\hat{p}=[0.1,0.2,0.7]$$\n",
    "$$y=[0,0,1]$$\n",
    "In this case the cross-entropy loss is\n",
    "$$H(\\hat{p},y)=-(y_1*\\log{p_1}+y_2*\\log{p_2}+y_3*\\log{p_3})$$\n",
    "$$=-(0*\\log{0.1}+0*\\log{0.2}+1*\\log{0.7})$$\n",
    "$$=-\\log{0.7}=-(-0.357)=0.357$$\n",
    "\n",
    "Finally, the cross-entropy loss for the whole batch is computed as the average cross-entropy loss of the observations.\n",
    "\n",
    "*All in all, the cross-entropy loss computed on a batch is the sum of the predicted log-probabilities of the correct labels across all the observations.*\n",
    "\n",
    "Unlike accuracy, cross-entropy is a continuous and differentiable function. It also provides useful feedback for incremental improvements in the model (a slightly higher probability for the correct label leads to a lower loss). These two factors make cross-entropy a better choice for the loss function.\n",
    "\n",
    "PyTorch provides an efficient and tensor-friendly implementation of cross-entropy as part of the `torch.nn.functional` package. Moreover, it also performs softmax internally, so the model outputs can be passed directly without converting them into probabilities."
   ]
  },
  {
   "cell_type": "code",
   "execution_count": 24,
   "metadata": {},
   "outputs": [],
   "source": [
    "from torch.nn.functional import cross_entropy"
   ]
  },
  {
   "cell_type": "markdown",
   "metadata": {},
   "source": [
    "#### (Manually implemented cross-entrompy loss for binary classification)\n",
    "Source: https://machinelearningmastery.com/cross-entropy-for-machine-learning/"
   ]
  },
  {
   "cell_type": "code",
   "execution_count": 25,
   "metadata": {},
   "outputs": [
    {
     "name": "stdout",
     "output_type": "stream",
     "text": [
      "expected: [0.0, 1]\tpredicted: [0.19999999999999996, 0.8]\t[y=1.0, yhat=0.8] ce: 0.223 nats\n",
      "expected: [0.0, 1]\tpredicted: [0.09999999999999998, 0.9]\t[y=1.0, yhat=0.9] ce: 0.105 nats\n",
      "expected: [0.0, 1]\tpredicted: [0.09999999999999998, 0.9]\t[y=1.0, yhat=0.9] ce: 0.105 nats\n",
      "expected: [0.0, 1]\tpredicted: [0.4, 0.6]\t[y=1.0, yhat=0.6] ce: 0.511 nats\n",
      "expected: [0.0, 1]\tpredicted: [0.19999999999999996, 0.8]\t[y=1.0, yhat=0.8] ce: 0.223 nats\n",
      "expected: [1.0, 0]\tpredicted: [0.9, 0.1]\t[y=0.0, yhat=0.1] ce: 0.105 nats\n",
      "expected: [1.0, 0]\tpredicted: [0.6, 0.4]\t[y=0.0, yhat=0.4] ce: 0.511 nats\n",
      "expected: [1.0, 0]\tpredicted: [0.8, 0.2]\t[y=0.0, yhat=0.2] ce: 0.223 nats\n",
      "expected: [1.0, 0]\tpredicted: [0.9, 0.1]\t[y=0.0, yhat=0.1] ce: 0.105 nats\n",
      "expected: [1.0, 0]\tpredicted: [0.7, 0.3]\t[y=0.0, yhat=0.3] ce: 0.357 nats\n",
      "Average Cross Entropy: 0.247 nats\n"
     ]
    }
   ],
   "source": [
    "# calculate cross entropy for classification problem\n",
    "from math import log\n",
    "from numpy import mean\n",
    "\n",
    "# calculate cross entropy\n",
    "def cross_entropy_manual(p, q):\n",
    "    return -sum([p[i]*log(q[i]) for i in range(len(p))])\n",
    " \n",
    "# define classification data\n",
    "p = [1, 1, 1, 1, 1, 0, 0, 0, 0, 0]\n",
    "q = [0.8, 0.9, 0.9, 0.6, 0.8, 0.1, 0.4, 0.2, 0.1, 0.3]\n",
    "\n",
    "# calculate cross entropy for each example\n",
    "results = list()\n",
    "for i in range(len(p)):\n",
    "    \n",
    "    # create the distribution for each event {0, 1}\n",
    "    expected = [1.0 - p[i], p[i]]\n",
    "    predicted = [1.0 - q[i], q[i]]\n",
    "    \n",
    "    # calculate cross entropy for the two events\n",
    "    ce = cross_entropy_manual(expected, predicted)\n",
    "    print(f'expected: {expected}\\tpredicted: {predicted}\\t[y={p[i]:.1f}, yhat={q[i]:.1f}] ce: {ce:.3f} nats')\n",
    "    \n",
    "    # print(f'[y={p[i]:.1f}, yhat={q[i]:.1f}] ce: {ce:.3f} nats')\n",
    "    results.append(ce)\n",
    "\n",
    "# calculate the average cross entropy\n",
    "mean_ce = mean(results)\n",
    "print(f'Average Cross Entropy: {mean_ce:.3f} nats')"
   ]
  },
  {
   "cell_type": "markdown",
   "metadata": {},
   "source": [
    "## Training the model\n",
    "\n",
    "Having defined data loaders, model, loss function and optimizer, the model can be trained. The training process is identical to linear regression, with the addition of a \"validation phase\" to evaluate the model in each epoch.\n",
    "\n",
    "The pseudocode is:\n",
    "\n",
    "```\n",
    "for epoch in range(num_epochs):\n",
    "    # Training phase\n",
    "    for batch in train_loader:\n",
    "        # Generate predictions\n",
    "        # Calculate loss\n",
    "        # Compute gradients\n",
    "        # Update weights\n",
    "        # Reset gradients\n",
    "    \n",
    "    # Validation phase\n",
    "    for batch in val_loader:\n",
    "        # Generate predictions\n",
    "        # Calculate loss\n",
    "        # Calculate metrics (accuracy etc.)\n",
    "    # Calculate average validation loss & metrics\n",
    "    \n",
    "    # Log epoch, loss & metrics for inspection\n",
    "```\n",
    "\n",
    "Some parts of the training loop are specific the specific problem (e.g. loss function, metrics etc.) whereas others are generic and can be applied to any problem. \n",
    "\n",
    "The problem-independent parts are in included within a function called `fit`, which is used to train the model. The problem-specific parts are implemented by adding new methods to the `nn.Module` class.\n",
    "\n",
    "Starting from `nn.Module`"
   ]
  },
  {
   "cell_type": "code",
   "execution_count": 54,
   "metadata": {},
   "outputs": [
    {
     "name": "stdout",
     "output_type": "stream",
     "text": [
      "MnistModel(\n",
      "  (flatten): Flatten(start_dim=1, end_dim=-1)\n",
      "  (linear): Linear(in_features=784, out_features=10, bias=True)\n",
      ")\n"
     ]
    }
   ],
   "source": [
    "torch_device = torch.device('cuda' if torch.cuda.is_available() else 'cpu')\n",
    "\n",
    "class MnistModel(nn.Module):\n",
    "\n",
    "    # model definition and parameter inizialization\n",
    "    def __init__(self):\n",
    "        super().__init__()\n",
    "        self.flatten = nn.Flatten()\n",
    "        self.linear = nn.Linear(\n",
    "            28*28, 10\n",
    "            # , device=torch_device\n",
    "        )\n",
    "    \n",
    "    # forward method defined as 2 steps\n",
    "    def forward(self, xb):\n",
    "        # xb = xb.reshape(-1, 784)    # reshaping in the form of a vector for each image tensor\n",
    "        xb = self.flatten(xb)       # alternative to reshaping\n",
    "        out = self.linear(xb)       # pass through the linear model\n",
    "        return out\n",
    "    \n",
    "    def training_step(self, batch):\n",
    "        images, labels = batch \n",
    "        images = images.to(torch_device)\n",
    "        labels = labels.to(torch_device)\n",
    "        out = self(images)                  # Generate predictions\n",
    "        loss = cross_entropy(out, labels)   # Calculate loss\n",
    "        return loss\n",
    "    \n",
    "    def validation_step(self, batch):\n",
    "        images, labels = batch \n",
    "        images = images.to(torch_device)\n",
    "        labels = labels.to(torch_device)\n",
    "        out = self(images)                      # Generate predictions\n",
    "        loss = cross_entropy(out, labels)       # Calculate loss\n",
    "        acc = accuracy(out, labels)             # Calculate accuracy\n",
    "        return {'val_loss': loss, 'val_acc': acc}\n",
    "        \n",
    "    def validation_epoch_end(self, outputs):\n",
    "        batch_losses = [x['val_loss'] for x in outputs]\n",
    "        epoch_loss = torch.stack(batch_losses).mean()   # Combine losses\n",
    "        batch_accs = [x['val_acc'] for x in outputs]\n",
    "        epoch_acc = torch.stack(batch_accs).mean()      # Combine accuracies\n",
    "        return {'val_loss': epoch_loss.item(), 'val_acc': epoch_acc.item()}\n",
    "    \n",
    "    def epoch_end(self, epoch, result):\n",
    "        print(\"Epoch [{}], val_loss: {:.4f}, val_acc: {:.4f}\".format(epoch, result['val_loss'], result['val_acc']))\n",
    "    \n",
    "model = MnistModel().to(device=torch_device)\n",
    "\n",
    "print(model)"
   ]
  },
  {
   "cell_type": "markdown",
   "metadata": {},
   "source": [
    "To evaluate the model a function is created"
   ]
  },
  {
   "cell_type": "code",
   "execution_count": 50,
   "metadata": {},
   "outputs": [],
   "source": [
    "def evaluate(model, val_loader):\n",
    "\n",
    "    # cross-entropy loss and accuracy are computed for each batch in the validation dataloader\n",
    "    outputs = [model.validation_step(batch) for batch in val_loader]\n",
    "\n",
    "    # the overall cross-entropy loss and accuracy of the epoch are returned\n",
    "    return model.validation_epoch_end(outputs)"
   ]
  },
  {
   "cell_type": "markdown",
   "metadata": {},
   "source": [
    "Finally, the `fit` function is defined"
   ]
  },
  {
   "cell_type": "code",
   "execution_count": 55,
   "metadata": {},
   "outputs": [],
   "source": [
    "def fit(epochs, learning_rate, model, train_loader, val_loader, opt_func=torch.optim.SGD):\n",
    "\n",
    "    # definition of the optimizer\n",
    "    optimizer = opt_func(model.parameters(), learning_rate)\n",
    "    \n",
    "    # definition of history list to record the results\n",
    "    history = [] \n",
    "    \n",
    "    # training and validation steps for each epoch\n",
    "    for epoch in range(epochs):\n",
    "        \n",
    "        # training step for each batch\n",
    "        for batch in train_loader:\n",
    "\n",
    "            # loss computation using the loss method of the model class\n",
    "            loss = model.training_step(batch)\n",
    "\n",
    "            # gradient computation\n",
    "            loss.backward()\n",
    "\n",
    "            # update of weights and biases using the optimizer\n",
    "            optimizer.step()\n",
    "\n",
    "            # reset of the gradients\n",
    "            optimizer.zero_grad()\n",
    "        \n",
    "        # validation step for each batch\n",
    "        result = evaluate(model, val_loader)\n",
    "\n",
    "        # show output at the end of the epoch\n",
    "        model.epoch_end(epoch, result)\n",
    "\n",
    "        # history recording\n",
    "        history.append(result)\n",
    "\n",
    "    return history"
   ]
  },
  {
   "cell_type": "markdown",
   "metadata": {},
   "source": [
    "Check the initial loss and accuracy metrics for the validation set"
   ]
  },
  {
   "cell_type": "code",
   "execution_count": 56,
   "metadata": {},
   "outputs": [
    {
     "data": {
      "text/plain": [
       "{'val_loss': 2.296464443206787, 'val_acc': 0.09384889155626297}"
      ]
     },
     "execution_count": 56,
     "metadata": {},
     "output_type": "execute_result"
    }
   ],
   "source": [
    "result0 = evaluate(model, validation_loader)\n",
    "result0"
   ]
  },
  {
   "cell_type": "markdown",
   "metadata": {},
   "source": [
    "Run the model"
   ]
  },
  {
   "cell_type": "code",
   "execution_count": 57,
   "metadata": {},
   "outputs": [
    {
     "name": "stdout",
     "output_type": "stream",
     "text": [
      "Epoch [0], val_loss: 1.9337, val_acc: 0.6295\n",
      "Epoch [1], val_loss: 1.6683, val_acc: 0.7286\n",
      "Epoch [2], val_loss: 1.4706, val_acc: 0.7611\n",
      "Epoch [3], val_loss: 1.3215, val_acc: 0.7812\n",
      "Epoch [4], val_loss: 1.2069, val_acc: 0.7967\n",
      "Epoch [5], val_loss: 1.1167, val_acc: 0.8070\n",
      "Epoch [6], val_loss: 1.0443, val_acc: 0.8154\n",
      "Epoch [7], val_loss: 0.9850, val_acc: 0.8223\n",
      "Epoch [8], val_loss: 0.9356, val_acc: 0.8278\n",
      "Epoch [9], val_loss: 0.8937, val_acc: 0.8328\n",
      "Epoch [10], val_loss: 0.8579, val_acc: 0.8379\n",
      "Epoch [11], val_loss: 0.8268, val_acc: 0.8409\n",
      "Epoch [12], val_loss: 0.7995, val_acc: 0.8435\n",
      "Epoch [13], val_loss: 0.7754, val_acc: 0.8453\n",
      "Epoch [14], val_loss: 0.7540, val_acc: 0.8467\n",
      "Epoch [15], val_loss: 0.7347, val_acc: 0.8487\n",
      "Epoch [16], val_loss: 0.7174, val_acc: 0.8509\n",
      "Epoch [17], val_loss: 0.7016, val_acc: 0.8521\n",
      "Epoch [18], val_loss: 0.6872, val_acc: 0.8538\n",
      "Epoch [19], val_loss: 0.6740, val_acc: 0.8554\n",
      "Epoch [20], val_loss: 0.6619, val_acc: 0.8568\n",
      "Epoch [21], val_loss: 0.6507, val_acc: 0.8586\n",
      "Epoch [22], val_loss: 0.6403, val_acc: 0.8596\n",
      "Epoch [23], val_loss: 0.6306, val_acc: 0.8616\n",
      "Epoch [24], val_loss: 0.6216, val_acc: 0.8625\n"
     ]
    }
   ],
   "source": [
    "history1 = fit(25, 0.001, model, train_loader, validation_loader)"
   ]
  },
  {
   "cell_type": "markdown",
   "metadata": {},
   "source": [
    "Visualize with a lineplot"
   ]
  },
  {
   "cell_type": "code",
   "execution_count": 69,
   "metadata": {},
   "outputs": [
    {
     "data": {
      "text/plain": [
       "[<matplotlib.lines.Line2D at 0x22227f54580>]"
      ]
     },
     "execution_count": 69,
     "metadata": {},
     "output_type": "execute_result"
    },
    {
     "data": {
      "image/png": "[encoded data removed]",
      "text/plain": [
       "<Figure size 576x360 with 2 Axes>"
      ]
     },
     "metadata": {
      "needs_background": "light"
     },
     "output_type": "display_data"
    }
   ],
   "source": [
    "import matplotlib.pyplot as plt\n",
    "%matplotlib inline\n",
    "\n",
    "accuracies = [result['val_acc'] for result in history1]\n",
    "losses = [result['val_loss'] for result in history1]\n",
    "\n",
    "fig, ax = plt.subplots(1,2,figsize=(8,5))\n",
    "ax[0].plot(range(len(accuracies)),accuracies)\n",
    "ax[1].plot(range(len(losses)),losses,c='orange')"
   ]
  },
  {
   "cell_type": "markdown",
   "metadata": {},
   "source": [
    "## Testing with individual images"
   ]
  },
  {
   "cell_type": "code",
   "execution_count": 70,
   "metadata": {},
   "outputs": [],
   "source": [
    "# Define test dataset\n",
    "test_dataset = MNIST(\n",
    "    root='data/',\n",
    "    train=False,\n",
    "    transform=transforms.ToTensor()\n",
    ")"
   ]
  },
  {
   "cell_type": "code",
   "execution_count": 71,
   "metadata": {},
   "outputs": [
    {
     "name": "stdout",
     "output_type": "stream",
     "text": [
      "Shape: torch.Size([1, 28, 28])\n",
      "Label: 7\n"
     ]
    },
    {
     "data": {
      "image/png": "[encoded data removed]",
      "text/plain": [
       "<Figure size 432x288 with 1 Axes>"
      ]
     },
     "metadata": {
      "needs_background": "light"
     },
     "output_type": "display_data"
    }
   ],
   "source": [
    "img, label = test_dataset[0]\n",
    "plt.imshow(img[0], cmap='gray')\n",
    "print('Shape:', img.shape)\n",
    "print('Label:', label)"
   ]
  },
  {
   "cell_type": "code",
   "execution_count": 74,
   "metadata": {},
   "outputs": [],
   "source": [
    "def predict_image(img, model):\n",
    "    xb = img.unsqueeze(0).to(torch_device)\n",
    "    yb = model(xb)\n",
    "    _, preds = torch.max(yb, dim=1)\n",
    "    return preds[0].item()"
   ]
  },
  {
   "cell_type": "markdown",
   "metadata": {},
   "source": [
    "`img.unsqueeze` adds another dimension at the begining of the 1x28x28 tensor, making it a 1x1x28x28 tensor, so that the model views it as a batch containing a single image"
   ]
  },
  {
   "cell_type": "code",
   "execution_count": 82,
   "metadata": {},
   "outputs": [
    {
     "name": "stdout",
     "output_type": "stream",
     "text": [
      "Label: 0 , Predicted: 0\n"
     ]
    },
    {
     "data": {
      "image/png": "[encoded data removed]",
      "text/plain": [
       "<Figure size 432x288 with 1 Axes>"
      ]
     },
     "metadata": {
      "needs_background": "light"
     },
     "output_type": "display_data"
    }
   ],
   "source": [
    "img, label = test_dataset[4891]\n",
    "plt.imshow(img[0], cmap='gray')\n",
    "print('Label:', label, ', Predicted:', predict_image(img, model))"
   ]
  },
  {
   "cell_type": "markdown",
   "metadata": {},
   "source": [
    "Check the overall accuracy of the model w.r.t the test set"
   ]
  },
  {
   "cell_type": "code",
   "execution_count": 83,
   "metadata": {},
   "outputs": [
    {
     "data": {
      "text/plain": [
       "{'val_loss': 0.5866603255271912, 'val_acc': 0.8682616949081421}"
      ]
     },
     "execution_count": 83,
     "metadata": {},
     "output_type": "execute_result"
    }
   ],
   "source": [
    "test_loader = DataLoader(test_dataset, batch_size=256)\n",
    "result = evaluate(model, test_loader)\n",
    "result"
   ]
  }
 ],
 "metadata": {
  "kernelspec": {
   "display_name": "Python 3.9.13 ('torch_env')",
   "language": "python",
   "name": "python3"
  },
  "language_info": {
   "codemirror_mode": {
    "name": "ipython",
    "version": 3
   },
   "file_extension": ".py",
   "mimetype": "text/x-python",
   "name": "python",
   "nbconvert_exporter": "python",
   "pygments_lexer": "ipython3",
   "version": "3.9.13"
  },
  "orig_nbformat": 4,
  "vscode": {
   "interpreter": {
    "hash": "2d94a055596b021af6b355d38c8f68b28eca02e4c507e6e85fc92b8f40d87732"
   }
  }
 },
 "nbformat": 4,
 "nbformat_minor": 2
}
